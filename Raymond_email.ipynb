{
  "nbformat": 4,
  "nbformat_minor": 0,
  "metadata": {
    "colab": {
      "provenance": []
    },
    "kernelspec": {
      "name": "python3",
      "display_name": "Python 3"
    },
    "language_info": {
      "name": "python"
    }
  },
  "cells": [
    {
      "cell_type": "code",
      "execution_count": 1,
      "metadata": {
        "colab": {
          "base_uri": "https://localhost:8080/"
        },
        "id": "khBdBDQQRZmR",
        "outputId": "87dae656-bf69-4b1a-9f5a-3b92ccbc5299"
      },
      "outputs": [
        {
          "output_type": "stream",
          "name": "stdout",
          "text": [
            "Requirement already satisfied: google-cloud-aiplatform in /usr/local/lib/python3.11/dist-packages (1.104.0)\n",
            "Requirement already satisfied: google-api-core!=2.0.*,!=2.1.*,!=2.2.*,!=2.3.*,!=2.4.*,!=2.5.*,!=2.6.*,!=2.7.*,<3.0.0,>=1.34.1 in /usr/local/lib/python3.11/dist-packages (from google-api-core[grpc]!=2.0.*,!=2.1.*,!=2.2.*,!=2.3.*,!=2.4.*,!=2.5.*,!=2.6.*,!=2.7.*,<3.0.0,>=1.34.1->google-cloud-aiplatform) (2.25.1)\n",
            "Requirement already satisfied: google-auth<3.0.0,>=2.14.1 in /usr/local/lib/python3.11/dist-packages (from google-cloud-aiplatform) (2.38.0)\n",
            "Requirement already satisfied: proto-plus<2.0.0,>=1.22.3 in /usr/local/lib/python3.11/dist-packages (from google-cloud-aiplatform) (1.26.1)\n",
            "Requirement already satisfied: protobuf!=4.21.0,!=4.21.1,!=4.21.2,!=4.21.3,!=4.21.4,!=4.21.5,<7.0.0,>=3.20.2 in /usr/local/lib/python3.11/dist-packages (from google-cloud-aiplatform) (5.29.5)\n",
            "Requirement already satisfied: packaging>=14.3 in /usr/local/lib/python3.11/dist-packages (from google-cloud-aiplatform) (25.0)\n",
            "Requirement already satisfied: google-cloud-storage<3.0.0,>=1.32.0 in /usr/local/lib/python3.11/dist-packages (from google-cloud-aiplatform) (2.19.0)\n",
            "Requirement already satisfied: google-cloud-bigquery!=3.20.0,<4.0.0,>=1.15.0 in /usr/local/lib/python3.11/dist-packages (from google-cloud-aiplatform) (3.35.0)\n",
            "Requirement already satisfied: google-cloud-resource-manager<3.0.0,>=1.3.3 in /usr/local/lib/python3.11/dist-packages (from google-cloud-aiplatform) (1.14.2)\n",
            "Requirement already satisfied: shapely<3.0.0 in /usr/local/lib/python3.11/dist-packages (from google-cloud-aiplatform) (2.1.1)\n",
            "Requirement already satisfied: google-genai<2.0.0,>=1.0.0 in /usr/local/lib/python3.11/dist-packages (from google-cloud-aiplatform) (1.26.0)\n",
            "Requirement already satisfied: pydantic<3 in /usr/local/lib/python3.11/dist-packages (from google-cloud-aiplatform) (2.11.7)\n",
            "Requirement already satisfied: typing_extensions in /usr/local/lib/python3.11/dist-packages (from google-cloud-aiplatform) (4.14.1)\n",
            "Requirement already satisfied: docstring_parser<1 in /usr/local/lib/python3.11/dist-packages (from google-cloud-aiplatform) (0.16)\n",
            "Requirement already satisfied: googleapis-common-protos<2.0.0,>=1.56.2 in /usr/local/lib/python3.11/dist-packages (from google-api-core!=2.0.*,!=2.1.*,!=2.2.*,!=2.3.*,!=2.4.*,!=2.5.*,!=2.6.*,!=2.7.*,<3.0.0,>=1.34.1->google-api-core[grpc]!=2.0.*,!=2.1.*,!=2.2.*,!=2.3.*,!=2.4.*,!=2.5.*,!=2.6.*,!=2.7.*,<3.0.0,>=1.34.1->google-cloud-aiplatform) (1.70.0)\n",
            "Requirement already satisfied: requests<3.0.0,>=2.18.0 in /usr/local/lib/python3.11/dist-packages (from google-api-core!=2.0.*,!=2.1.*,!=2.2.*,!=2.3.*,!=2.4.*,!=2.5.*,!=2.6.*,!=2.7.*,<3.0.0,>=1.34.1->google-api-core[grpc]!=2.0.*,!=2.1.*,!=2.2.*,!=2.3.*,!=2.4.*,!=2.5.*,!=2.6.*,!=2.7.*,<3.0.0,>=1.34.1->google-cloud-aiplatform) (2.32.3)\n",
            "Requirement already satisfied: grpcio<2.0.0,>=1.33.2 in /usr/local/lib/python3.11/dist-packages (from google-api-core[grpc]!=2.0.*,!=2.1.*,!=2.2.*,!=2.3.*,!=2.4.*,!=2.5.*,!=2.6.*,!=2.7.*,<3.0.0,>=1.34.1->google-cloud-aiplatform) (1.73.1)\n",
            "Requirement already satisfied: grpcio-status<2.0.0,>=1.33.2 in /usr/local/lib/python3.11/dist-packages (from google-api-core[grpc]!=2.0.*,!=2.1.*,!=2.2.*,!=2.3.*,!=2.4.*,!=2.5.*,!=2.6.*,!=2.7.*,<3.0.0,>=1.34.1->google-cloud-aiplatform) (1.71.2)\n",
            "Requirement already satisfied: cachetools<6.0,>=2.0.0 in /usr/local/lib/python3.11/dist-packages (from google-auth<3.0.0,>=2.14.1->google-cloud-aiplatform) (5.5.2)\n",
            "Requirement already satisfied: pyasn1-modules>=0.2.1 in /usr/local/lib/python3.11/dist-packages (from google-auth<3.0.0,>=2.14.1->google-cloud-aiplatform) (0.4.2)\n",
            "Requirement already satisfied: rsa<5,>=3.1.4 in /usr/local/lib/python3.11/dist-packages (from google-auth<3.0.0,>=2.14.1->google-cloud-aiplatform) (4.9.1)\n",
            "Requirement already satisfied: google-cloud-core<3.0.0,>=2.4.1 in /usr/local/lib/python3.11/dist-packages (from google-cloud-bigquery!=3.20.0,<4.0.0,>=1.15.0->google-cloud-aiplatform) (2.4.3)\n",
            "Requirement already satisfied: google-resumable-media<3.0.0,>=2.0.0 in /usr/local/lib/python3.11/dist-packages (from google-cloud-bigquery!=3.20.0,<4.0.0,>=1.15.0->google-cloud-aiplatform) (2.7.2)\n",
            "Requirement already satisfied: python-dateutil<3.0.0,>=2.8.2 in /usr/local/lib/python3.11/dist-packages (from google-cloud-bigquery!=3.20.0,<4.0.0,>=1.15.0->google-cloud-aiplatform) (2.9.0.post0)\n",
            "Requirement already satisfied: grpc-google-iam-v1<1.0.0,>=0.14.0 in /usr/local/lib/python3.11/dist-packages (from google-cloud-resource-manager<3.0.0,>=1.3.3->google-cloud-aiplatform) (0.14.2)\n",
            "Requirement already satisfied: google-crc32c<2.0dev,>=1.0 in /usr/local/lib/python3.11/dist-packages (from google-cloud-storage<3.0.0,>=1.32.0->google-cloud-aiplatform) (1.7.1)\n",
            "Requirement already satisfied: anyio<5.0.0,>=4.8.0 in /usr/local/lib/python3.11/dist-packages (from google-genai<2.0.0,>=1.0.0->google-cloud-aiplatform) (4.9.0)\n",
            "Requirement already satisfied: httpx<1.0.0,>=0.28.1 in /usr/local/lib/python3.11/dist-packages (from google-genai<2.0.0,>=1.0.0->google-cloud-aiplatform) (0.28.1)\n",
            "Requirement already satisfied: tenacity<9.0.0,>=8.2.3 in /usr/local/lib/python3.11/dist-packages (from google-genai<2.0.0,>=1.0.0->google-cloud-aiplatform) (8.5.0)\n",
            "Requirement already satisfied: websockets<15.1.0,>=13.0.0 in /usr/local/lib/python3.11/dist-packages (from google-genai<2.0.0,>=1.0.0->google-cloud-aiplatform) (15.0.1)\n",
            "Requirement already satisfied: annotated-types>=0.6.0 in /usr/local/lib/python3.11/dist-packages (from pydantic<3->google-cloud-aiplatform) (0.7.0)\n",
            "Requirement already satisfied: pydantic-core==2.33.2 in /usr/local/lib/python3.11/dist-packages (from pydantic<3->google-cloud-aiplatform) (2.33.2)\n",
            "Requirement already satisfied: typing-inspection>=0.4.0 in /usr/local/lib/python3.11/dist-packages (from pydantic<3->google-cloud-aiplatform) (0.4.1)\n",
            "Requirement already satisfied: numpy>=1.21 in /usr/local/lib/python3.11/dist-packages (from shapely<3.0.0->google-cloud-aiplatform) (2.0.2)\n",
            "Requirement already satisfied: idna>=2.8 in /usr/local/lib/python3.11/dist-packages (from anyio<5.0.0,>=4.8.0->google-genai<2.0.0,>=1.0.0->google-cloud-aiplatform) (3.10)\n",
            "Requirement already satisfied: sniffio>=1.1 in /usr/local/lib/python3.11/dist-packages (from anyio<5.0.0,>=4.8.0->google-genai<2.0.0,>=1.0.0->google-cloud-aiplatform) (1.3.1)\n",
            "Requirement already satisfied: certifi in /usr/local/lib/python3.11/dist-packages (from httpx<1.0.0,>=0.28.1->google-genai<2.0.0,>=1.0.0->google-cloud-aiplatform) (2025.7.14)\n",
            "Requirement already satisfied: httpcore==1.* in /usr/local/lib/python3.11/dist-packages (from httpx<1.0.0,>=0.28.1->google-genai<2.0.0,>=1.0.0->google-cloud-aiplatform) (1.0.9)\n",
            "Requirement already satisfied: h11>=0.16 in /usr/local/lib/python3.11/dist-packages (from httpcore==1.*->httpx<1.0.0,>=0.28.1->google-genai<2.0.0,>=1.0.0->google-cloud-aiplatform) (0.16.0)\n",
            "Requirement already satisfied: pyasn1<0.7.0,>=0.6.1 in /usr/local/lib/python3.11/dist-packages (from pyasn1-modules>=0.2.1->google-auth<3.0.0,>=2.14.1->google-cloud-aiplatform) (0.6.1)\n",
            "Requirement already satisfied: six>=1.5 in /usr/local/lib/python3.11/dist-packages (from python-dateutil<3.0.0,>=2.8.2->google-cloud-bigquery!=3.20.0,<4.0.0,>=1.15.0->google-cloud-aiplatform) (1.17.0)\n",
            "Requirement already satisfied: charset-normalizer<4,>=2 in /usr/local/lib/python3.11/dist-packages (from requests<3.0.0,>=2.18.0->google-api-core!=2.0.*,!=2.1.*,!=2.2.*,!=2.3.*,!=2.4.*,!=2.5.*,!=2.6.*,!=2.7.*,<3.0.0,>=1.34.1->google-api-core[grpc]!=2.0.*,!=2.1.*,!=2.2.*,!=2.3.*,!=2.4.*,!=2.5.*,!=2.6.*,!=2.7.*,<3.0.0,>=1.34.1->google-cloud-aiplatform) (3.4.2)\n",
            "Requirement already satisfied: urllib3<3,>=1.21.1 in /usr/local/lib/python3.11/dist-packages (from requests<3.0.0,>=2.18.0->google-api-core!=2.0.*,!=2.1.*,!=2.2.*,!=2.3.*,!=2.4.*,!=2.5.*,!=2.6.*,!=2.7.*,<3.0.0,>=1.34.1->google-api-core[grpc]!=2.0.*,!=2.1.*,!=2.2.*,!=2.3.*,!=2.4.*,!=2.5.*,!=2.6.*,!=2.7.*,<3.0.0,>=1.34.1->google-cloud-aiplatform) (2.4.0)\n"
          ]
        }
      ],
      "source": [
        "%pip install --upgrade --user google-cloud-aiplatform"
      ]
    },
    {
      "cell_type": "code",
      "source": [
        "!gcloud config get-value core/project\n",
        "!gcloud config set project zelarsoft-data-engineering\n",
        "!gcloud auth application-default login"
      ],
      "metadata": {
        "colab": {
          "base_uri": "https://localhost:8080/"
        },
        "id": "F36dG54gRf-x",
        "outputId": "59151580-e2c5-4ee6-ea0c-b2024a3d3275"
      },
      "execution_count": 2,
      "outputs": [
        {
          "output_type": "stream",
          "name": "stdout",
          "text": [
            "(unset)\n",
            "Updated property [core/project].\n",
            "Go to the following link in your browser, and complete the sign-in prompts:\n",
            "\n",
            "    https://accounts.google.com/o/oauth2/auth?response_type=code&client_id=764086051850-6qr4p6gpi6hn506pt8ejuq83di341hur.apps.googleusercontent.com&redirect_uri=https%3A%2F%2Fsdk.cloud.google.com%2Fapplicationdefaultauthcode.html&scope=openid+https%3A%2F%2Fwww.googleapis.com%2Fauth%2Fuserinfo.email+https%3A%2F%2Fwww.googleapis.com%2Fauth%2Fcloud-platform+https%3A%2F%2Fwww.googleapis.com%2Fauth%2Fsqlservice.login&state=BxPYKsrIWaDuXr0KGJX7Qv2Hxg52kA&prompt=consent&token_usage=remote&access_type=offline&code_challenge=lShuEiDiBDiVgUn-iL4AI3a8bvug9FAaUL669T8hsno&code_challenge_method=S256\n",
            "\n",
            "Once finished, enter the verification code provided in your browser: 4/0AVMBsJjoB_6FxDD7mOWf00eaMCNPY7z8TOnEepWrQ5lE6FEtJV1Ltpzbgux2aCPzq42Lyg\n",
            "\n",
            "Credentials saved to file: [/content/.config/application_default_credentials.json]\n",
            "\n",
            "These credentials will be used by any library that requests Application Default Credentials (ADC).\n",
            "\n",
            "Quota project \"zelarsoft-data-engineering\" was added to ADC which can be used by Google client libraries for billing and quota. Note that some services may still bill the project owning the resource.\n"
          ]
        }
      ]
    },
    {
      "cell_type": "code",
      "source": [
        "PROJECT_ID = \"zelarsoft-data-engineering\"  # @param {type:\"string\"}\n",
        "LOCATION = \"us-central1\"  # @param {type:\"string\"}\n",
        "\n",
        "import vertexai\n",
        "\n",
        "vertexai.init(project=PROJECT_ID, location=LOCATION)"
      ],
      "metadata": {
        "id": "8O8LiUDZRf80"
      },
      "execution_count": 3,
      "outputs": []
    },
    {
      "cell_type": "code",
      "source": [
        "!pip install gradio==5.24.0"
      ],
      "metadata": {
        "colab": {
          "base_uri": "https://localhost:8080/"
        },
        "id": "Wrw5pRPhRf6c",
        "outputId": "8f0ca5ac-c05b-40ce-a0f3-75c01309f8a1"
      },
      "execution_count": 4,
      "outputs": [
        {
          "output_type": "stream",
          "name": "stdout",
          "text": [
            "Collecting gradio==5.24.0\n",
            "  Downloading gradio-5.24.0-py3-none-any.whl.metadata (16 kB)\n",
            "Requirement already satisfied: aiofiles<25.0,>=22.0 in /usr/local/lib/python3.11/dist-packages (from gradio==5.24.0) (24.1.0)\n",
            "Requirement already satisfied: anyio<5.0,>=3.0 in /usr/local/lib/python3.11/dist-packages (from gradio==5.24.0) (4.9.0)\n",
            "Requirement already satisfied: fastapi<1.0,>=0.115.2 in /usr/local/lib/python3.11/dist-packages (from gradio==5.24.0) (0.116.1)\n",
            "Requirement already satisfied: ffmpy in /usr/local/lib/python3.11/dist-packages (from gradio==5.24.0) (0.6.0)\n",
            "Collecting gradio-client==1.8.0 (from gradio==5.24.0)\n",
            "  Downloading gradio_client-1.8.0-py3-none-any.whl.metadata (7.1 kB)\n",
            "Requirement already satisfied: groovy~=0.1 in /usr/local/lib/python3.11/dist-packages (from gradio==5.24.0) (0.1.2)\n",
            "Requirement already satisfied: httpx>=0.24.1 in /usr/local/lib/python3.11/dist-packages (from gradio==5.24.0) (0.28.1)\n",
            "Requirement already satisfied: huggingface-hub>=0.28.1 in /usr/local/lib/python3.11/dist-packages (from gradio==5.24.0) (0.33.4)\n",
            "Requirement already satisfied: jinja2<4.0 in /usr/local/lib/python3.11/dist-packages (from gradio==5.24.0) (3.1.6)\n",
            "Requirement already satisfied: markupsafe<4.0,>=2.0 in /usr/local/lib/python3.11/dist-packages (from gradio==5.24.0) (3.0.2)\n",
            "Requirement already satisfied: numpy<3.0,>=1.0 in /usr/local/lib/python3.11/dist-packages (from gradio==5.24.0) (2.0.2)\n",
            "Requirement already satisfied: orjson~=3.0 in /usr/local/lib/python3.11/dist-packages (from gradio==5.24.0) (3.11.0)\n",
            "Requirement already satisfied: packaging in /usr/local/lib/python3.11/dist-packages (from gradio==5.24.0) (25.0)\n",
            "Requirement already satisfied: pandas<3.0,>=1.0 in /usr/local/lib/python3.11/dist-packages (from gradio==5.24.0) (2.2.2)\n",
            "Requirement already satisfied: pillow<12.0,>=8.0 in /usr/local/lib/python3.11/dist-packages (from gradio==5.24.0) (11.2.1)\n",
            "Requirement already satisfied: pydantic<2.12,>=2.0 in /usr/local/lib/python3.11/dist-packages (from gradio==5.24.0) (2.11.7)\n",
            "Requirement already satisfied: pydub in /usr/local/lib/python3.11/dist-packages (from gradio==5.24.0) (0.25.1)\n",
            "Requirement already satisfied: python-multipart>=0.0.18 in /usr/local/lib/python3.11/dist-packages (from gradio==5.24.0) (0.0.20)\n",
            "Requirement already satisfied: pyyaml<7.0,>=5.0 in /usr/local/lib/python3.11/dist-packages (from gradio==5.24.0) (6.0.2)\n",
            "Requirement already satisfied: ruff>=0.9.3 in /usr/local/lib/python3.11/dist-packages (from gradio==5.24.0) (0.12.4)\n",
            "Requirement already satisfied: safehttpx<0.2.0,>=0.1.6 in /usr/local/lib/python3.11/dist-packages (from gradio==5.24.0) (0.1.6)\n",
            "Requirement already satisfied: semantic-version~=2.0 in /usr/local/lib/python3.11/dist-packages (from gradio==5.24.0) (2.10.0)\n",
            "Requirement already satisfied: starlette<1.0,>=0.40.0 in /usr/local/lib/python3.11/dist-packages (from gradio==5.24.0) (0.47.1)\n",
            "Requirement already satisfied: tomlkit<0.14.0,>=0.12.0 in /usr/local/lib/python3.11/dist-packages (from gradio==5.24.0) (0.13.3)\n",
            "Requirement already satisfied: typer<1.0,>=0.12 in /usr/local/lib/python3.11/dist-packages (from gradio==5.24.0) (0.16.0)\n",
            "Requirement already satisfied: typing-extensions~=4.0 in /usr/local/lib/python3.11/dist-packages (from gradio==5.24.0) (4.14.1)\n",
            "Requirement already satisfied: uvicorn>=0.14.0 in /usr/local/lib/python3.11/dist-packages (from gradio==5.24.0) (0.35.0)\n",
            "Requirement already satisfied: fsspec in /usr/local/lib/python3.11/dist-packages (from gradio-client==1.8.0->gradio==5.24.0) (2025.3.2)\n",
            "Requirement already satisfied: websockets<16.0,>=10.0 in /usr/local/lib/python3.11/dist-packages (from gradio-client==1.8.0->gradio==5.24.0) (15.0.1)\n",
            "Requirement already satisfied: idna>=2.8 in /usr/local/lib/python3.11/dist-packages (from anyio<5.0,>=3.0->gradio==5.24.0) (3.10)\n",
            "Requirement already satisfied: sniffio>=1.1 in /usr/local/lib/python3.11/dist-packages (from anyio<5.0,>=3.0->gradio==5.24.0) (1.3.1)\n",
            "Requirement already satisfied: certifi in /usr/local/lib/python3.11/dist-packages (from httpx>=0.24.1->gradio==5.24.0) (2025.7.14)\n",
            "Requirement already satisfied: httpcore==1.* in /usr/local/lib/python3.11/dist-packages (from httpx>=0.24.1->gradio==5.24.0) (1.0.9)\n",
            "Requirement already satisfied: h11>=0.16 in /usr/local/lib/python3.11/dist-packages (from httpcore==1.*->httpx>=0.24.1->gradio==5.24.0) (0.16.0)\n",
            "Requirement already satisfied: filelock in /usr/local/lib/python3.11/dist-packages (from huggingface-hub>=0.28.1->gradio==5.24.0) (3.18.0)\n",
            "Requirement already satisfied: requests in /usr/local/lib/python3.11/dist-packages (from huggingface-hub>=0.28.1->gradio==5.24.0) (2.32.3)\n",
            "Requirement already satisfied: tqdm>=4.42.1 in /usr/local/lib/python3.11/dist-packages (from huggingface-hub>=0.28.1->gradio==5.24.0) (4.67.1)\n",
            "Requirement already satisfied: hf-xet<2.0.0,>=1.1.2 in /usr/local/lib/python3.11/dist-packages (from huggingface-hub>=0.28.1->gradio==5.24.0) (1.1.5)\n",
            "Requirement already satisfied: python-dateutil>=2.8.2 in /usr/local/lib/python3.11/dist-packages (from pandas<3.0,>=1.0->gradio==5.24.0) (2.9.0.post0)\n",
            "Requirement already satisfied: pytz>=2020.1 in /usr/local/lib/python3.11/dist-packages (from pandas<3.0,>=1.0->gradio==5.24.0) (2025.2)\n",
            "Requirement already satisfied: tzdata>=2022.7 in /usr/local/lib/python3.11/dist-packages (from pandas<3.0,>=1.0->gradio==5.24.0) (2025.2)\n",
            "Requirement already satisfied: annotated-types>=0.6.0 in /usr/local/lib/python3.11/dist-packages (from pydantic<2.12,>=2.0->gradio==5.24.0) (0.7.0)\n",
            "Requirement already satisfied: pydantic-core==2.33.2 in /usr/local/lib/python3.11/dist-packages (from pydantic<2.12,>=2.0->gradio==5.24.0) (2.33.2)\n",
            "Requirement already satisfied: typing-inspection>=0.4.0 in /usr/local/lib/python3.11/dist-packages (from pydantic<2.12,>=2.0->gradio==5.24.0) (0.4.1)\n",
            "Requirement already satisfied: click>=8.0.0 in /usr/local/lib/python3.11/dist-packages (from typer<1.0,>=0.12->gradio==5.24.0) (8.2.1)\n",
            "Requirement already satisfied: shellingham>=1.3.0 in /usr/local/lib/python3.11/dist-packages (from typer<1.0,>=0.12->gradio==5.24.0) (1.5.4)\n",
            "Requirement already satisfied: rich>=10.11.0 in /usr/local/lib/python3.11/dist-packages (from typer<1.0,>=0.12->gradio==5.24.0) (13.9.4)\n",
            "Requirement already satisfied: six>=1.5 in /usr/local/lib/python3.11/dist-packages (from python-dateutil>=2.8.2->pandas<3.0,>=1.0->gradio==5.24.0) (1.17.0)\n",
            "Requirement already satisfied: markdown-it-py>=2.2.0 in /usr/local/lib/python3.11/dist-packages (from rich>=10.11.0->typer<1.0,>=0.12->gradio==5.24.0) (3.0.0)\n",
            "Requirement already satisfied: pygments<3.0.0,>=2.13.0 in /usr/local/lib/python3.11/dist-packages (from rich>=10.11.0->typer<1.0,>=0.12->gradio==5.24.0) (2.19.2)\n",
            "Requirement already satisfied: charset-normalizer<4,>=2 in /usr/local/lib/python3.11/dist-packages (from requests->huggingface-hub>=0.28.1->gradio==5.24.0) (3.4.2)\n",
            "Requirement already satisfied: urllib3<3,>=1.21.1 in /usr/local/lib/python3.11/dist-packages (from requests->huggingface-hub>=0.28.1->gradio==5.24.0) (2.4.0)\n",
            "Requirement already satisfied: mdurl~=0.1 in /usr/local/lib/python3.11/dist-packages (from markdown-it-py>=2.2.0->rich>=10.11.0->typer<1.0,>=0.12->gradio==5.24.0) (0.1.2)\n",
            "Downloading gradio-5.24.0-py3-none-any.whl (46.9 MB)\n",
            "\u001b[2K   \u001b[90m━━━━━━━━━━━━━━━━━━━━━━━━━━━━━━━━━━━━━━━━\u001b[0m \u001b[32m46.9/46.9 MB\u001b[0m \u001b[31m21.5 MB/s\u001b[0m eta \u001b[36m0:00:00\u001b[0m\n",
            "\u001b[?25hDownloading gradio_client-1.8.0-py3-none-any.whl (322 kB)\n",
            "\u001b[2K   \u001b[90m━━━━━━━━━━━━━━━━━━━━━━━━━━━━━━━━━━━━━━━━\u001b[0m \u001b[32m322.2/322.2 kB\u001b[0m \u001b[31m26.4 MB/s\u001b[0m eta \u001b[36m0:00:00\u001b[0m\n",
            "\u001b[?25hInstalling collected packages: gradio-client, gradio\n",
            "  Attempting uninstall: gradio-client\n",
            "    Found existing installation: gradio_client 1.10.4\n",
            "    Uninstalling gradio_client-1.10.4:\n",
            "      Successfully uninstalled gradio_client-1.10.4\n",
            "  Attempting uninstall: gradio\n",
            "    Found existing installation: gradio 5.37.0\n",
            "    Uninstalling gradio-5.37.0:\n",
            "      Successfully uninstalled gradio-5.37.0\n",
            "Successfully installed gradio-5.24.0 gradio-client-1.8.0\n"
          ]
        }
      ]
    },
    {
      "cell_type": "code",
      "source": [
        "def pil_to_image(image: im) -> str:\n",
        "    \"\"\"Converts a PIL Image object to a base64 string.\"\"\"\n",
        "    with io.BytesIO() as buffer:\n",
        "        image.save(buffer, format=\"JPEG\")\n",
        "        img_bytes = buffer.getvalue()\n",
        "    return img_bytes"
      ],
      "metadata": {
        "id": "Pmk1ASVkUgiw"
      },
      "execution_count": 17,
      "outputs": []
    },
    {
      "cell_type": "code",
      "source": [
        "def resize_image(image_path, base_width=300):\n",
        "  \"\"\"\n",
        "  Resizes an image to the specified base width while maintaining aspect ratio.\n",
        "\n",
        "  Args:\n",
        "    image_path: Path to the image.\n",
        "    base_width: Desired width for the image. Defaults to 300.\n",
        "\n",
        "  Returns:\n",
        "    The resized Image object.\n",
        "  \"\"\"\n",
        "\n",
        "  def calculate_new_dimensions(image_path, base_width):\n",
        "    wpercent = (base_width / float(image_path.size[0]))\n",
        "    hsize = int((float(image_path.size[1]) * float(wpercent)))\n",
        "    return (base_width, hsize)\n",
        "\n",
        "\n",
        "  img = image_path.resize(calculate_new_dimensions(image_path, base_width), im.LANCZOS)\n",
        "\n",
        "  return img"
      ],
      "metadata": {
        "id": "Ef0GBCNdUd0Q"
      },
      "execution_count": 18,
      "outputs": []
    },
    {
      "cell_type": "code",
      "source": [
        "def image_to_bytes(image: im) -> str:\n",
        "    \"\"\"Converts a PIL object to a base64 string.\"\"\"\n",
        "    with io.BytesIO() as buffer:\n",
        "        image.save(buffer, format=\"JPEG\")\n",
        "        img_bytes = buffer.getvalue()\n",
        "    return img_bytes"
      ],
      "metadata": {
        "id": "H7DTaS3rUdty"
      },
      "execution_count": 19,
      "outputs": []
    },
    {
      "cell_type": "code",
      "source": [
        "def pil_to_file(image: im, file_path: str) -> str:\n",
        "    \"\"\"\n",
        "    Saves a PIL Image object to the specified file path.\n",
        "\n",
        "    Args:\n",
        "        image: The PIL Image object to save.\n",
        "        file_path: The file path where the image will be saved.\n",
        "\n",
        "    Returns:\n",
        "        The file path where the image was saved.\n",
        "    \"\"\"\n",
        "    try:\n",
        "        image.save(file_path, format=\"JPEG\")  # Change format if needed (e.g., PNG)\n",
        "        return file_path\n",
        "    except Exception as e:\n",
        "        print(f\"Error saving image to file: {e}\")\n",
        "        return None\n"
      ],
      "metadata": {
        "id": "C5Oc7YIeUkLw"
      },
      "execution_count": 20,
      "outputs": []
    },
    {
      "cell_type": "code",
      "source": [
        "import base64\n",
        "import io\n",
        "from io import BytesIO\n",
        "from typing import Optional, Tuple, Union, List\n",
        "import pandas as pd\n",
        "import matplotlib.pyplot as plt\n",
        "import numpy as np\n",
        "from PIL import Image as im\n",
        "import os\n",
        "import gradio as gr\n",
        "from vertexai.preview.vision_models import (\n",
        "    Image,\n",
        "    ImageGenerationModel,\n",
        "    StyleReferenceImage,\n",
        "    SubjectReferenceImage,\n",
        ")\n",
        "from vertexai.generative_models import GenerativeModel, Part\n",
        "from vertexai.generative_models import Image as image_gen"
      ],
      "metadata": {
        "id": "2ujtaG2GRf4C"
      },
      "execution_count": 21,
      "outputs": []
    },
    {
      "cell_type": "code",
      "source": [
        "\n",
        "# def generate_marketing_campaign(image1_path, image2_path, user_instructions, campaign_duration):\n",
        "#     \"\"\"Generates a marketing campaign strategy based on two images, user input, and campaign duration.\"\"\"\n",
        "#     try:\n",
        "#         image1 = image_gen.from_bytes(image_to_bytes(image1_path))\n",
        "#         image2 = image_gen.from_bytes(image_to_bytes(image2_path))\n",
        "\n",
        "#         model = GenerativeModel(\"gemini-1.5-flash-002\")\n",
        "\n",
        "#         base_prompt = f\"\"\"\n",
        "#         You are a brand strategist. Analyze the following two images and create a complete marketing campaign plan for a {campaign_duration} campaign.\n",
        "#        1. Campaign Overview\n",
        "#           Provide a compelling campaign name or tagline.\n",
        "#           Define the core objective (e.g., awareness, engagement, conversions, launch).\n",
        "\n",
        "#        2. Target Audience\n",
        "#           Define the ideal audience persona(s) — age, interests, lifestyle, pain points.\n",
        "#           Highlight psychographic and behavioral traits relevant to the product shown.\n",
        "\n",
        "#       3. Channel Strategy\n",
        "#           Recommend the top 3–5 platforms to focus on (e.g., Instagram, TikTok, YouTube, Pinterest, LinkedIn, Email, WhatsApp).\n",
        "#           Justify each choice based on audience and content fit.\n",
        "\n",
        "#       4. Core Messaging & Creative Themes\n",
        "#           Describe the campaign’s emotional and visual narrative.\n",
        "#           Include 2–3 key messages or storytelling angles to repeat throughout the campaign.\n",
        "#           Highlight how the messaging connects to audience aspirations or challenges.\n",
        "\n",
        "#        5. Content Strategy\n",
        "#           List 5–8 content ideas across formats like:\n",
        "#           Reels/Shorts\n",
        "#           Carousel posts\n",
        "#           Stories or story polls\n",
        "#           Static images\n",
        "#           Behind-the-scenes\n",
        "#           Influencer collabs\n",
        "#           User-generated content\n",
        "#           Include whether content should be organic, boosted, or UGC-driven.\n",
        "\n",
        "#        6. Tone, Style & Aesthetic\n",
        "#           Define the visual identity: colors, filters, fonts, composition.\n",
        "#           Specify tone of voice: e.g., aspirational, fun, educational, minimalist, luxury.\n",
        "\n",
        "#        7. Hashtags & Emoji Strategy\n",
        "#           Provide a list of 5–10 strategic hashtags (branded + niche + trending).\n",
        "#           Include emoji suggestions to convey tone or boost engagement.\n",
        "\n",
        "#        8. Timeline & Posting Calendar\n",
        "#           Break down the {campaign_duration} into weeks (or days if short).\n",
        "#           Suggest posting frequency and themes per week.\n",
        "#           Include timing recommendations for reels vs stories vs posts.\n",
        "#         \"\"\"\n",
        "\n",
        "#         full_prompt = f\"{base_prompt}\\n\\nAdditional instructions from user: {user_instructions}\"\n",
        "\n",
        "#         prompt = [image1, image2, full_prompt]\n",
        "\n",
        "#         response = model.generate_content(prompt)\n",
        "#         return response.text.strip()\n",
        "#     except Exception as e:\n",
        "#         print(f\"An error occurred during campaign generation: {e}\")\n",
        "#         return \"Error generating marketing campaign.\""
      ],
      "metadata": {
        "id": "MUrtQVrsRf1J"
      },
      "execution_count": 45,
      "outputs": []
    },
    {
      "cell_type": "code",
      "source": [
        "# with gr.Blocks(title=\"AI-Powered Marketing Campaign Generator\") as interface:\n",
        "#     gr.Markdown(\"## Upload two images and generate a tailored marketing campaign plan\")\n",
        "\n",
        "#     with gr.Row():\n",
        "#         image1 = gr.Image(type=\"pil\", label=\"Image 1\")\n",
        "#         image2 = gr.Image(type=\"pil\", label=\"Image 2\")\n",
        "\n",
        "#     user_instructions = gr.Textbox(\n",
        "#         label=\"Additional Instructions\",\n",
        "#         placeholder=\"e.g., Focus on Gen Z, make it festive, include influencer strategy.\"\n",
        "#     )\n",
        "\n",
        "#     output = gr.Textbox(label=\"Generated Marketing Campaign Strategy\")\n",
        "\n",
        "#     # Buttons to choose campaign length\n",
        "#     with gr.Row():\n",
        "#         btn_2wk = gr.Button(\"Generate 2-Week Campaign\")\n",
        "#         btn_4wk = gr.Button(\"Generate 4-Week Campaign\")\n",
        "\n",
        "#     # Link buttons to the function with appropriate duration\n",
        "#     btn_2wk.click(\n",
        "#         fn=generate_marketing_campaign,\n",
        "#         inputs=[image1, image2, user_instructions, gr.State(\"2-week\")],\n",
        "#         outputs=output\n",
        "#     )\n",
        "\n",
        "#     btn_4wk.click(\n",
        "#         fn=generate_marketing_campaign,\n",
        "#         inputs=[image1, image2, user_instructions, gr.State(\"4-week\")],\n",
        "#         outputs=output\n",
        "#     )\n",
        "\n",
        "\n",
        "# # Launch the app\n",
        "# if __name__ == \"__main__\":\n",
        "#     interface.launch(debug=True)"
      ],
      "metadata": {
        "id": "_W3pfHfYRfzE"
      },
      "execution_count": 46,
      "outputs": []
    },
    {
      "cell_type": "code",
      "source": [
        "def generate_marketing_campaign(image1_path, image2_path, user_instructions, campaign_duration):\n",
        "    \"\"\"Generates a marketing campaign strategy based on two images, user input, and campaign duration.\"\"\"\n",
        "    try:\n",
        "        image1 = image_gen.from_bytes(image_to_bytes(image1_path))\n",
        "        image2 = image_gen.from_bytes(image_to_bytes(image2_path))\n",
        "\n",
        "        model = GenerativeModel(\"gemini-1.5-flash-002\")\n",
        "\n",
        "        base_prompt = f\"\"\"\n",
        "        You are a brand strategist. Analyze the following two images and create a complete marketing campaign plan for a {campaign_duration} campaign.\n",
        "        Focus on:\n",
        "        - Campaign objective\n",
        "        - Target audience\n",
        "        - Platforms to use (e.g., Instagram, YouTube, etc.)\n",
        "        - Key messaging and themes\n",
        "        - Content ideas (video, reels, stories, influencer posts, etc.)\n",
        "        - Tone and visual style\n",
        "        - Suggested hashtags and emojis must be present in a list.\n",
        "        - Timeline and posting frequency over {campaign_duration}\n",
        "\n",
        "        Combine insights from both images into a single cohesive campaign.\n",
        "        \"\"\"\n",
        "\n",
        "        full_prompt = f\"{base_prompt}\\n\\nAdditional instructions from user: {user_instructions}\"\n",
        "\n",
        "        prompt = [image1, image2, full_prompt]\n",
        "\n",
        "        response = model.generate_content(prompt)\n",
        "        return response.text.strip()\n",
        "    except Exception as e:\n",
        "        print(f\"An error occurred during campaign generation: {e}\")\n",
        "        return \"Error generating marketing campaign.\"\n",
        "\n",
        "def generate_captions_from_campaign(image1_path, image2_path, campaign_text, uploaded_csv):\n",
        "    try:\n",
        "        if uploaded_csv is None:\n",
        "            return \"Please upload a CSV file with previous captions.\"\n",
        "\n",
        "        # Load captions from uploaded CSV\n",
        "        df = pd.read_csv(uploaded_csv.name)\n",
        "        if 'caption' not in df.columns:\n",
        "            return \"CSV must have a 'caption' column.\"\n",
        "\n",
        "        captions = df['caption'].dropna().tolist()\n",
        "        if len(captions) == 0:\n",
        "            return \"No captions found in the CSV.\"\n",
        "\n",
        "        # Convert captions into prompt reference\n",
        "        brand_examples = \"\\n\".join([f\"- {cap}\" for cap in captions[:10]])  # limit to 10 examples\n",
        "\n",
        "        image1 = image_gen.from_bytes(image_to_bytes(image1_path))\n",
        "        image2 = image_gen.from_bytes(image_to_bytes(image2_path))\n",
        "\n",
        "        model = GenerativeModel(\"gemini-1.5-flash-002\")\n",
        "\n",
        "        prompt = [\n",
        "            image1,\n",
        "            image2,\n",
        "            f\"\"\"\n",
        "            Based on the following marketing campaign plan:\n",
        "            \\\"\\\"\\\"\n",
        "            {campaign_text}\n",
        "            \\\"\\\"\\\"\n",
        "\n",
        "            Here are Raymond’s past social media captions for style reference:\n",
        "            {brand_examples}\n",
        "\n",
        "            Now generate 2 new brand-consistent social media post captions.\n",
        "            - Be catchy, on-brand, and aligned with the campaign\n",
        "            - Include hashtags and emojis\n",
        "            - Keep tone consistent with the past captions\n",
        "\n",
        "            Format:\n",
        "            Post 1 Caption:\n",
        "            ...\n",
        "            Post 2 Caption:\n",
        "            ...\n",
        "            \"\"\"\n",
        "        ]\n",
        "\n",
        "        response = model.generate_content(prompt)\n",
        "        return response.text.strip()\n",
        "    except Exception as e:\n",
        "        print(f\"Error in caption generation: {e}\")\n",
        "        return \"Error generating captions.\""
      ],
      "metadata": {
        "id": "XKaMha80c9b8"
      },
      "execution_count": 98,
      "outputs": []
    },
    {
      "cell_type": "code",
      "source": [
        "import smtplib\n",
        "import os\n",
        "from email.mime.text import MIMEText\n",
        "from email.mime.multipart import MIMEMultipart\n",
        "from email.mime.base import MIMEBase\n",
        "from email import encoders\n",
        "from google.colab import userdata"
      ],
      "metadata": {
        "id": "245g9-Oljpmi"
      },
      "execution_count": 99,
      "outputs": []
    },
    {
      "cell_type": "code",
      "source": [
        "# !pip install markdown"
      ],
      "metadata": {
        "id": "4geGGHHuwXdd"
      },
      "execution_count": 100,
      "outputs": []
    },
    {
      "cell_type": "code",
      "source": [
        "from google.colab import userdata\n",
        "\n",
        "EMAIL = userdata.get(\"EMAIL\")\n",
        "PASSWORD = userdata.get(\"PASSWORD\")\n"
      ],
      "metadata": {
        "id": "pU_QeBUskdoK"
      },
      "execution_count": 101,
      "outputs": []
    },
    {
      "cell_type": "code",
      "source": [
        "import markdown\n",
        "\n",
        "EMAIL = userdata.get('EMAIL')\n",
        "PASSWORD = userdata.get('PASSWORD')\n",
        "\n",
        "def send_email(file_path: str, subject: str, body_markdown: str, receiver_email: str) -> str:\n",
        "    \"\"\"This function reads an input file and sends an email to the recipient with an attachment.\n",
        "    Args:\n",
        "        file_path: The path to the attachment.\n",
        "        receiver_email: The receiver's email address.\n",
        "        subject: The email subject.\n",
        "        body: The email body.\n",
        "    Returns:\n",
        "        A text whether the email was sent successfully.\n",
        "    \"\"\"\n",
        "    sender_email = EMAIL\n",
        "    sender_password = PASSWORD\n",
        "\n",
        "    if not sender_email or not sender_password:\n",
        "        return \"Error: Email credentials not configured.\"\n",
        "\n",
        "    body_html = markdown.markdown(body_markdown)\n",
        "\n",
        "    # Create the message.\n",
        "    msg = MIMEMultipart()\n",
        "    msg['From'] = sender_email\n",
        "    msg['To'] = receiver_email\n",
        "    msg['Subject'] = subject\n",
        "\n",
        "    # Attach plain text (fallback) and HTML\n",
        "    # msg.attach(MIMEText(body_markdown, 'plain'))  # fallback\n",
        "    msg.attach(MIMEText(body_html, 'html'))       # actual rendered body\n",
        "\n",
        "    # Attach the file.\n",
        "    if file_path and os.path.exists(file_path):\n",
        "        try:\n",
        "            with open(file_path, 'rb') as attachment:\n",
        "                part = MIMEBase('application', 'octet-stream')\n",
        "                part.set_payload(attachment.read())\n",
        "                encoders.encode_base64(part)  # Encode file in base64\n",
        "                part.add_header('Content-Disposition', f'attachment; filename={os.path.basename(file_path)}')\n",
        "                msg.attach(part)\n",
        "        except Exception as e:\n",
        "            print(f\"Error attaching file: {e}\")\n",
        "            return f\"Error attaching file: {e}\"\n",
        "    elif file_path:\n",
        "         print(f\"Warning: Attachment file not found at {file_path}\")\n",
        "\n",
        "    try:\n",
        "        with smtplib.SMTP('smtp.gmail.com', 587) as server:\n",
        "            server.starttls()\n",
        "            server.login(sender_email, sender_password)\n",
        "            server.sendmail(sender_email, receiver_email, msg.as_string())\n",
        "            print(f\"Email sent successfully to {receiver_email}\")\n",
        "            return f\"Email sent successfully to {receiver_email}\"\n",
        "    except Exception as e:\n",
        "        print(f\"Error: unable to send email to {receiver_email}. {e}\")\n",
        "        return f\"Error sending email to {receiver_email}: {e}\"\n",
        "\n",
        "\n",
        "def handle_send_email(content, receiver_email, subject, attachment_file):\n",
        "    file_path = attachment_file.name if attachment_file else None\n",
        "\n",
        "    return send_email(file_path, subject, content, receiver_email)"
      ],
      "metadata": {
        "id": "ccchPLaNjqzC"
      },
      "execution_count": 102,
      "outputs": []
    },
    {
      "cell_type": "code",
      "source": [
        "with gr.Blocks(title=\"Raymond Marketing Campaign Generator\") as interface:\n",
        "    gr.Markdown(\"## Upload Two images to generate Marketing Campaign and Captions for Raymond\")\n",
        "\n",
        "    with gr.Row():\n",
        "        image1 = gr.Image(type=\"pil\", label=\"Image 1\")\n",
        "        image2 = gr.Image(type=\"pil\", label=\"Image 2\")\n",
        "\n",
        "    uploaded_csv = gr.File(\n",
        "        file_types=[\".csv\"],\n",
        "        label=\"Upload CSV of Raymond's Previous Captions (must have a 'caption' column)\"\n",
        "    )\n",
        "\n",
        "    user_instructions = gr.Textbox(\n",
        "        label=\"Additional Instructions\",\n",
        "        placeholder=\"e.g., Make it festive and Gen Z friendly\"\n",
        "    )\n",
        "\n",
        "    campaign_output = gr.Textbox(\n",
        "        label=\"Generated Marketing Campaign Strategy\",\n",
        "    )\n",
        "\n",
        "\n",
        "    with gr.Row():\n",
        "        btn_2wk = gr.Button(\"Generate 2-Week Campaign\")\n",
        "        btn_4wk = gr.Button(\"Generate 4-Week Campaign\")\n",
        "\n",
        "    btn_2wk.click(\n",
        "        fn=generate_marketing_campaign,\n",
        "        inputs=[image1, image2, user_instructions, gr.State(\"2-week\")],\n",
        "        outputs=campaign_output\n",
        "    )\n",
        "\n",
        "    btn_4wk.click(\n",
        "        fn=generate_marketing_campaign,\n",
        "        inputs=[image1, image2, user_instructions, gr.State(\"4-week\")],\n",
        "        outputs=campaign_output\n",
        "    )\n",
        "\n",
        "    gr.Markdown(\"## Generate Social Media Captions Using Campaign + Uploaded Caption CSV\")\n",
        "\n",
        "    captions_output = gr.Textbox(\n",
        "        label=\"Generated Social Media Captions (2 Posts)\",\n",
        "        lines=6\n",
        "    )\n",
        "\n",
        "    btn_captions = gr.Button(\"Generate Captions for Social Media Posts\")\n",
        "\n",
        "    btn_captions.click(\n",
        "        fn=generate_captions_from_campaign,\n",
        "        inputs=[image1, image2, campaign_output, uploaded_csv],\n",
        "        outputs=captions_output\n",
        "    )\n",
        "\n",
        "    gr.Markdown(\"## 📤 Send Generated Campaign via Email\")\n",
        "\n",
        "    email_receiver = gr.Textbox(label=\"Recipient Email\")\n",
        "    email_subject = gr.Textbox(label=\"Email Subject\", placeholder=\"e.g., Your Raymond Campaign Plan\")\n",
        "    email_attachment = gr.File(label=\"Optional Attachment\", file_types=[\".pdf\", \".png\", \".jpg\"])\n",
        "    email_output = gr.Textbox(label=\"Email Status\")\n",
        "\n",
        "    send_button = gr.Button(\"Send Email\")\n",
        "\n",
        "    send_button.click(\n",
        "        fn=handle_send_email,\n",
        "        inputs=[campaign_output, email_receiver, email_subject,email_attachment],\n",
        "        outputs=email_output\n",
        "    )\n",
        "\n",
        "# Run the app\n",
        "if __name__ == \"__main__\":\n",
        "    interface.launch(debug=True)"
      ],
      "metadata": {
        "colab": {
          "base_uri": "https://localhost:8080/",
          "height": 749
        },
        "id": "Zz2lNy4jfFws",
        "outputId": "b92b9880-3766-425c-f918-8e993dd4fb16"
      },
      "execution_count": 103,
      "outputs": [
        {
          "output_type": "stream",
          "name": "stdout",
          "text": [
            "Running Gradio in a Colab notebook requires sharing enabled. Automatically setting `share=True` (you can turn this off by setting `share=False` in `launch()` explicitly).\n",
            "\n",
            "Colab notebook detected. This cell will run indefinitely so that you can see errors and logs. To turn off, set debug=False in launch().\n",
            "* Running on public URL: https://6e7bcb7d04067a5230.gradio.live\n",
            "\n",
            "This share link expires in 72 hours. For free permanent hosting and GPU upgrades, run `gradio deploy` from the terminal in the working directory to deploy to Hugging Face Spaces (https://huggingface.co/spaces)\n"
          ]
        },
        {
          "output_type": "display_data",
          "data": {
            "text/plain": [
              "<IPython.core.display.HTML object>"
            ],
            "text/html": [
              "<div><iframe src=\"https://6e7bcb7d04067a5230.gradio.live\" width=\"100%\" height=\"500\" allow=\"autoplay; camera; microphone; clipboard-read; clipboard-write;\" frameborder=\"0\" allowfullscreen></iframe></div>"
            ]
          },
          "metadata": {}
        },
        {
          "output_type": "stream",
          "name": "stderr",
          "text": [
            "/usr/local/lib/python3.11/dist-packages/vertexai/generative_models/_generative_models.py:433: UserWarning: This feature is deprecated as of June 24, 2025 and will be removed on June 24, 2026. For details, see https://cloud.google.com/vertex-ai/generative-ai/docs/deprecations/genai-vertexai-sdk.\n",
            "  warning_logs.show_deprecation_warning()\n"
          ]
        },
        {
          "output_type": "stream",
          "name": "stdout",
          "text": [
            "Email sent successfully to lonewolf4638@gmail.com\n",
            "Email sent successfully to guru.charan@zelarsoft.com\n",
            "Keyboard interruption in main thread... closing server.\n",
            "Killing tunnel 127.0.0.1:7860 <> https://6e7bcb7d04067a5230.gradio.live\n"
          ]
        }
      ]
    },
    {
      "cell_type": "code",
      "source": [],
      "metadata": {
        "id": "tnJiMMLofKr-"
      },
      "execution_count": null,
      "outputs": []
    }
  ]
}